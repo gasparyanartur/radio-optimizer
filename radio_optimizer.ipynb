{
 "cells": [
  {
   "cell_type": "code",
   "execution_count": 1,
   "metadata": {
    "colab": {
     "base_uri": "https://localhost:8080/"
    },
    "id": "91eoJzm25T3m",
    "outputId": "4fa5d574-22fd-4ec5-ec73-b8d6cc8763f6"
   },
   "outputs": [],
   "source": [
    "import os\n",
    "\n",
    "using_colab = False\n",
    "if using_colab:\n",
    "  os.system('rm -rf ./*')\n",
    "  os.system('git clone https://github.com/gasparyanartur/radio-optimizer.git')\n",
    "  os.system('mv radio-optimizer/* ./')\n",
    "  os.system('rm -rf radio-optimizer')"
   ]
  },
  {
   "cell_type": "code",
   "execution_count": 4,
   "metadata": {},
   "outputs": [
    {
     "name": "stdout",
     "output_type": "stream",
     "text": [
      "EFIM\n",
      "[[  2636.47658135   -898.98146586   4625.09226413 -14790.42549925]\n",
      " [  -898.98146586    306.5332276   -1577.0563838    5043.21505834]\n",
      " [  4625.09226413  -1577.0563838    8113.6614689  -25946.40249937]\n",
      " [-14790.42549925   5043.21505834 -25946.40249937  82973.11950224]]\n",
      "CRLB\n",
      "[[ 3.79294095e-04 -1.11236999e-03  2.16211903e-04 -6.76113071e-05]\n",
      " [-1.11236999e-03  3.26228908e-03 -6.34092738e-04  1.98286210e-04]\n",
      " [ 2.16211903e-04 -6.34092738e-04  1.23248918e-04 -3.85409885e-05]\n",
      " [-6.76113071e-05  1.98286210e-04 -3.85409885e-05  1.20520960e-05]]\n",
      "PWM: PEB = 0.06135822756872842 | CEB = 0.0034716128787623157\n",
      "self.L\n",
      "4\n",
      "point\n",
      "[2 4]\n",
      "L1\n",
      "[[-3 -1]\n",
      " [ 2  2]]\n",
      "L2\n",
      "[[0. 2.]\n",
      " [0. 4.]]\n",
      "point\n",
      "[2 4]\n",
      "L1\n",
      "[[3.  1.5]\n",
      " [2.  4. ]]\n",
      "L2\n",
      "[[0. 2.]\n",
      " [0. 4.]]\n",
      "point\n",
      "[2 4]\n",
      "L1\n",
      "[[-3 -1]\n",
      " [ 2  2]]\n",
      "L2\n",
      "[[-5.01  2.  ]\n",
      " [ 2.    4.  ]]\n",
      "point\n",
      "[2 4]\n",
      "L1\n",
      "[[3.  1.5]\n",
      " [2.  4. ]]\n",
      "L2\n",
      "[[-5.01  2.  ]\n",
      " [ 2.    4.  ]]\n",
      "point\n",
      "[2 4]\n",
      "L1\n",
      "[[-3 -1]\n",
      " [ 2  2]]\n",
      "L2\n",
      "[[-1.    2.  ]\n",
      " [ 5.01  4.  ]]\n",
      "point\n",
      "[2 4]\n",
      "L1\n",
      "[[3.  1.5]\n",
      " [2.  4. ]]\n",
      "L2\n",
      "[[-1.    2.  ]\n",
      " [ 5.01  4.  ]]\n",
      "point\n",
      "[2 4]\n",
      "L1\n",
      "[[-3 -1]\n",
      " [ 2  2]]\n",
      "L2\n",
      "[[5.01 2.  ]\n",
      " [2.5  4.  ]]\n",
      "point\n",
      "[2 4]\n",
      "L1\n",
      "[[3.  1.5]\n",
      " [2.  4. ]]\n",
      "L2\n",
      "[[5.01 2.  ]\n",
      " [2.5  4.  ]]\n",
      "blockage\n",
      "[ True  True  True  True]\n",
      "JS1\n",
      "[]\n"
     ]
    },
    {
     "ename": "IndexError",
     "evalue": "only integers, slices (`:`), ellipsis (`...`), numpy.newaxis (`None`) and integer or boolean arrays are valid indices",
     "output_type": "error",
     "traceback": [
      "\u001b[1;31m---------------------------------------------------------------------------\u001b[0m",
      "\u001b[1;31mIndexError\u001b[0m                                Traceback (most recent call last)",
      "\u001b[1;32m~\\AppData\\Local\\Temp\\ipykernel_82660\\686162437.py\u001b[0m in \u001b[0;36m<module>\u001b[1;34m\u001b[0m\n\u001b[0;32m     43\u001b[0m \u001b[0mpoint\u001b[0m \u001b[1;33m=\u001b[0m \u001b[0mnp\u001b[0m\u001b[1;33m.\u001b[0m\u001b[0marray\u001b[0m\u001b[1;33m(\u001b[0m\u001b[1;33m[\u001b[0m\u001b[1;36m2\u001b[0m\u001b[1;33m,\u001b[0m \u001b[1;36m4\u001b[0m\u001b[1;33m]\u001b[0m\u001b[1;33m)\u001b[0m\u001b[1;33m\u001b[0m\u001b[1;33m\u001b[0m\u001b[0m\n\u001b[0;32m     44\u001b[0m \u001b[0mblockage\u001b[0m \u001b[1;33m=\u001b[0m \u001b[0mc\u001b[0m\u001b[1;33m.\u001b[0m\u001b[0mget_blockage\u001b[0m\u001b[1;33m(\u001b[0m\u001b[0mpoint\u001b[0m\u001b[1;33m)\u001b[0m\u001b[1;33m\u001b[0m\u001b[1;33m\u001b[0m\u001b[0m\n\u001b[1;32m---> 45\u001b[1;33m \u001b[0mc\u001b[0m\u001b[1;33m.\u001b[0m\u001b[0mget_crlb_blockage\u001b[0m\u001b[1;33m(\u001b[0m\u001b[0mblockage\u001b[0m\u001b[1;33m)\u001b[0m\u001b[1;33m\u001b[0m\u001b[1;33m\u001b[0m\u001b[0m\n\u001b[0m\u001b[0;32m     46\u001b[0m \u001b[1;33m\u001b[0m\u001b[0m\n\u001b[0;32m     47\u001b[0m \u001b[0mprint\u001b[0m\u001b[1;33m(\u001b[0m\u001b[1;34mf\"PWM: PEB = {c.PEB} | CEB = {c.CEB}\"\u001b[0m\u001b[1;33m)\u001b[0m\u001b[1;33m\u001b[0m\u001b[1;33m\u001b[0m\u001b[0m\n",
      "\u001b[1;32mc:\\Users\\gaspa\\dev\\projects\\radio-optimizer\\src\\channel_mmWave_parameters.py\u001b[0m in \u001b[0;36mget_crlb_blockage\u001b[1;34m(self, blockage)\u001b[0m\n\u001b[0;32m   1014\u001b[0m         \u001b[0mprint\u001b[0m\u001b[1;33m(\u001b[0m\u001b[1;34m\"JS1\"\u001b[0m\u001b[1;33m)\u001b[0m\u001b[1;33m\u001b[0m\u001b[1;33m\u001b[0m\u001b[0m\n\u001b[0;32m   1015\u001b[0m         \u001b[0mprint\u001b[0m\u001b[1;33m(\u001b[0m\u001b[0mJS1\u001b[0m\u001b[1;33m)\u001b[0m\u001b[1;33m\u001b[0m\u001b[1;33m\u001b[0m\u001b[0m\n\u001b[1;32m-> 1016\u001b[1;33m         \u001b[0mJS1\u001b[0m\u001b[1;33m[\u001b[0m\u001b[1;33m:\u001b[0m\u001b[1;33m,\u001b[0m \u001b[0mcol_ind\u001b[0m\u001b[1;33m]\u001b[0m \u001b[1;33m=\u001b[0m \u001b[1;36m0\u001b[0m\u001b[1;33m\u001b[0m\u001b[1;33m\u001b[0m\u001b[0m\n\u001b[0m\u001b[0;32m   1017\u001b[0m \u001b[1;33m\u001b[0m\u001b[0m\n\u001b[0;32m   1018\u001b[0m         \u001b[0mFIM1\u001b[0m \u001b[1;33m=\u001b[0m \u001b[0mJS1\u001b[0m \u001b[1;33m@\u001b[0m \u001b[0mself\u001b[0m\u001b[1;33m.\u001b[0m\u001b[0mFIM_M\u001b[0m \u001b[1;33m@\u001b[0m \u001b[0mJS1\u001b[0m\u001b[1;33m.\u001b[0m\u001b[0mT\u001b[0m\u001b[1;33m\u001b[0m\u001b[1;33m\u001b[0m\u001b[0m\n",
      "\u001b[1;31mIndexError\u001b[0m: only integers, slices (`:`), ellipsis (`...`), numpy.newaxis (`None`) and integer or boolean arrays are valid indices"
     ]
    },
    {
     "data": {
      "image/png": "[encoded data removed]",
      "text/plain": [
       "<Figure size 640x480 with 1 Axes>"
      ]
     },
     "metadata": {},
     "output_type": "display_data"
    }
   ],
   "source": [
    "import numpy as np\n",
    "import matplotlib.pyplot as plt\n",
    "\n",
    "from src.utils import db2pow\n",
    "\n",
    "from src.channel_mmWave_parameters import ChannelmmWaveParameters\n",
    "\n",
    "c = ChannelmmWaveParameters(\n",
    "    OB = np.array([45, 0, 0]).reshape(-1, 1),\n",
    "    NB_dim = np.array([1, 1]).reshape(-1, 1),\n",
    "    PR = np.array([[-5.01, 2, 0.5], [-1, 5.01, 0.5], [5.01, 2.5, 0.5]]).T,\n",
    "    OR = np.array([[0, 0, 0], [-90, 0, 0], [180, 0, 0]]).T,\n",
    "    NR_dim = np.array([[10, 10], [10, 10], [10, 10]]).T,\n",
    "    PU = np.array([-2, 3, -1.5]).reshape(-1, 1),\n",
    "    OU = np.array([0, 0, 0]).reshape(-1, 1),\n",
    "    NU_dim = np.array([1, 1]).reshape(-1, 1),\n",
    "    P = db2pow(15),\n",
    "    K = 64,\n",
    "    G = 10,\n",
    "\n",
    "    seed=1\n",
    ")\n",
    "\n",
    "c.get_beam_matrix()\n",
    "c.get_tx_symbol()\n",
    "c.get_path_parameters_PWM()\n",
    "c.get_FIM_PWM()\n",
    "\n",
    "fim = c.FIM\n",
    "c.get_crlb_from_fim_PWM(fim)\n",
    "print(f\"PWM: PEB = {c.PEB} | CEB = {c.CEB}\")\n",
    "\n"
   ]
  },
  {
   "cell_type": "code",
   "execution_count": null,
   "metadata": {},
   "outputs": [],
   "source": [
    "c.Anchor = np.hstack((c.PB[:2], c.PR[:2]))\n",
    "c.Wall = [np.array([[-3, 2], [-1, 2]]), np.array([[3, 2], [1.5, 4]])]\n",
    "\n",
    "plt.scatter(c.PB[0], c.PB[1], marker='x')\n",
    "plt.scatter(c.PR[0], c.PR[1], marker='o')\n",
    "plt.plot(c.Wall[0][:, 0], c.Wall[0][:, 1])\n",
    "plt.plot(c.Wall[1][:, 0], c.Wall[1][:, 1])\n",
    "plt.xlim(-6, 6)\n",
    "plt.ylim(-1, 6)\n",
    "\n",
    "point = np.array([2, 4])\n",
    "blockage = c.get_blockage(point)\n",
    "c.get_crlb_blockage(blockage)\n",
    "\n",
    "print(f\"PWM: PEB = {c.PEB} | CEB = {c.CEB}\")\n"
   ]
  },
  {
   "cell_type": "code",
   "execution_count": 4,
   "metadata": {},
   "outputs": [
    {
     "ename": "IndexError",
     "evalue": "too many indices for array: array is 1-dimensional, but 2 were indexed",
     "output_type": "error",
     "traceback": [
      "\u001b[1;31m---------------------------------------------------------------------------\u001b[0m",
      "\u001b[1;31mIndexError\u001b[0m                                Traceback (most recent call last)",
      "\u001b[1;32m~\\AppData\\Local\\Temp\\ipykernel_150172\\2283924018.py\u001b[0m in \u001b[0;36m<module>\u001b[1;34m\u001b[0m\n\u001b[1;32m----> 1\u001b[1;33m \u001b[0mc\u001b[0m\u001b[1;33m.\u001b[0m\u001b[0mthetaRU_loc\u001b[0m\u001b[1;33m[\u001b[0m\u001b[1;33m:\u001b[0m\u001b[1;33m,\u001b[0m \u001b[1;36m2\u001b[0m\u001b[1;33m]\u001b[0m\u001b[1;33m\u001b[0m\u001b[1;33m\u001b[0m\u001b[0m\n\u001b[0m",
      "\u001b[1;31mIndexError\u001b[0m: too many indices for array: array is 1-dimensional, but 2 were indexed"
     ]
    }
   ],
   "source": [
    "c.thetaRU_loc[:, 2]\n"
   ]
  },
  {
   "cell_type": "code",
   "execution_count": null,
   "metadata": {},
   "outputs": [],
   "source": [
    "c.lambdak"
   ]
  },
  {
   "cell_type": "code",
   "execution_count": 5,
   "metadata": {},
   "outputs": [
    {
     "data": {
      "text/plain": [
       "array([[1., 0., 0.],\n",
       "       [0., 1., 0.],\n",
       "       [0., 0., 1.]])"
      ]
     },
     "execution_count": 5,
     "metadata": {},
     "output_type": "execute_result"
    }
   ],
   "source": [
    "np.eye(3)"
   ]
  },
  {
   "cell_type": "code",
   "execution_count": 2,
   "metadata": {},
   "outputs": [
    {
     "data": {
      "text/plain": [
       "array([[0.417022  ],\n",
       "       [0.72032449]])"
      ]
     },
     "execution_count": 2,
     "metadata": {},
     "output_type": "execute_result"
    }
   ],
   "source": [
    "import numpy as np\n",
    "np.random.seed(1)\n",
    "from src.utils import rand\n",
    "\n",
    "rand(2, 1)"
   ]
  },
  {
   "cell_type": "code",
   "execution_count": null,
   "metadata": {},
   "outputs": [],
   "source": []
  }
 ],
 "metadata": {
  "colab": {
   "authorship_tag": "ABX9TyNNp/nIKlS5VqHZmzWj4QsD",
   "provenance": []
  },
  "kernelspec": {
   "display_name": "base",
   "language": "python",
   "name": "python3"
  },
  "language_info": {
   "codemirror_mode": {
    "name": "ipython",
    "version": 3
   },
   "file_extension": ".py",
   "mimetype": "text/x-python",
   "name": "python",
   "nbconvert_exporter": "python",
   "pygments_lexer": "ipython3",
   "version": "3.9.13"
  },
  "vscode": {
   "interpreter": {
    "hash": "53f10265b29eae0c75bb63924abf1eea9a79a8d3dfe9a1fff78ba6afc90c4aa9"
   }
  }
 },
 "nbformat": 4,
 "nbformat_minor": 1
}
