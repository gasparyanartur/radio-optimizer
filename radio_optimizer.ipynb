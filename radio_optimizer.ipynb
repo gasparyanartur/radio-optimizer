{
 "cells": [
  {
   "cell_type": "code",
   "execution_count": 17,
   "metadata": {
    "colab": {
     "base_uri": "https://localhost:8080/"
    },
    "id": "91eoJzm25T3m",
    "outputId": "4fa5d574-22fd-4ec5-ec73-b8d6cc8763f6"
   },
   "outputs": [],
   "source": [
    "import os\n",
    "\n",
    "using_colab = False\n",
    "if using_colab:\n",
    "  os.system('rm -rf ./*')\n",
    "  os.system('git clone https://github.com/gasparyanartur/radio-optimizer.git')\n",
    "  os.system('mv radio-optimizer/* ./')\n",
    "  os.system('rm -rf radio-optimizer')"
   ]
  },
  {
   "cell_type": "code",
   "execution_count": 18,
   "metadata": {
    "id": "ScLdwAsS5xOQ"
   },
   "outputs": [],
   "source": [
    "import numpy as np\n",
    "from src.channel_mmWave_parameters import ChannelmmWaveParameters\n",
    "from src.utils import db2pow\n",
    "\n",
    "seed = 0\n",
    "rng = np.random.default_rng(seed)"
   ]
  },
  {
   "cell_type": "code",
   "execution_count": 19,
   "metadata": {},
   "outputs": [
    {
     "name": "stdout",
     "output_type": "stream",
     "text": [
      "PB SHAPE (3, 1)\n",
      "RB SHAPE (3, 3)\n",
      "B0 SHAPE (3, 1)\n"
     ]
    },
    {
     "data": {
      "text/plain": [
       "<BeamType.Random: 1>"
      ]
     },
     "execution_count": 19,
     "metadata": {},
     "output_type": "execute_result"
    }
   ],
   "source": [
    "c = ChannelmmWaveParameters(\n",
    "    PB = np.array([1, 2, 3]).reshape(-1, 1), \n",
    "    OB = np.array([45, 0, 0]).reshape(-1, 1),\n",
    "    NB_dim = np.array([1, 1]).reshape(-1, 1),\n",
    "    PR = np.array([[-5.01, 2, 0.5], [-1, 5.01, 0.5], [5.01, 2.5, 0.5]]).T,\n",
    "    OR = np.array([[0, 0, 0], [-90, 0, 0], [180, 0, 0]]).T,\n",
    "    NR_dim = np.array([[10, 10], [10, 10], [10, 10]]).T,\n",
    "    PU = np.array([-2, 3, -1.5]).reshape(-1, 1),\n",
    "    OU = np.array([0, 0, 0]).reshape(-1, 1),\n",
    "    NU_dim = np.array([1, 1]).reshape(-1, 1),\n",
    "    P = db2pow(15),\n",
    "    K = 64,\n",
    "    G = 10,\n",
    "    \n",
    ")\n",
    "c.PB\n",
    "c.beam_type\n"
   ]
  },
  {
   "cell_type": "code",
   "execution_count": 20,
   "metadata": {},
   "outputs": [
    {
     "data": {
      "text/plain": [
       "array([], dtype=int32)"
      ]
     },
     "execution_count": 20,
     "metadata": {},
     "output_type": "execute_result"
    }
   ],
   "source": [
    "np.arange(5,2)*5 "
   ]
  },
  {
   "cell_type": "code",
   "execution_count": 21,
   "metadata": {},
   "outputs": [
    {
     "data": {
      "text/plain": [
       "(3, 3)"
      ]
     },
     "execution_count": 21,
     "metadata": {},
     "output_type": "execute_result"
    }
   ],
   "source": [
    "from scipy.spatial.transform import Rotation\n",
    "\n",
    "Rotation.from_euler('ZYX', np.array([90, 45, 0]).reshape(1, -1).flatten(), degrees=True).as_matrix().shape\n"
   ]
  },
  {
   "cell_type": "code",
   "execution_count": 22,
   "metadata": {},
   "outputs": [
    {
     "data": {
      "text/plain": [
       "3"
      ]
     },
     "execution_count": 22,
     "metadata": {},
     "output_type": "execute_result"
    }
   ],
   "source": [
    "len(np.arange(10).reshape(1, 5, 2).shape)"
   ]
  },
  {
   "cell_type": "code",
   "execution_count": 23,
   "metadata": {},
   "outputs": [
    {
     "data": {
      "text/plain": [
       "array([[0, 3],\n",
       "       [1, 4],\n",
       "       [2, 5]])"
      ]
     },
     "execution_count": 23,
     "metadata": {},
     "output_type": "execute_result"
    }
   ],
   "source": [
    "np.arange(6).reshape(2, 3).T"
   ]
  },
  {
   "cell_type": "code",
   "execution_count": 24,
   "metadata": {},
   "outputs": [
    {
     "data": {
      "text/plain": [
       "array([[ 0. ,  0. ,  0. ,  0. ,  0. ,  0. ,  0. ,  0. ,  0. ,  0. ,  0. ,\n",
       "         0. ,  0. ,  0. ,  0. ,  0. ],\n",
       "       [-1.5, -1.5, -1.5, -1.5, -0.5, -0.5, -0.5, -0.5,  0.5,  0.5,  0.5,\n",
       "         0.5,  1.5,  1.5,  1.5,  1.5],\n",
       "       [-1.5, -0.5,  0.5,  1.5, -1.5, -0.5,  0.5,  1.5, -1.5, -0.5,  0.5,\n",
       "         1.5, -1.5, -0.5,  0.5,  1.5]])"
      ]
     },
     "execution_count": 24,
     "metadata": {},
     "output_type": "execute_result"
    }
   ],
   "source": [
    "import numpy as np\n",
    "from src.channel_mmWave_parameters import get_array_layout\n",
    "\n",
    "get_array_layout(np.array([4, 4]).reshape(-1, 1))"
   ]
  },
  {
   "cell_type": "code",
   "execution_count": 25,
   "metadata": {},
   "outputs": [
    {
     "data": {
      "text/plain": [
       "array([[ 0. ,  0. ,  0. ,  0. ,  0. ,  0. ,  0. ,  0. ],\n",
       "       [-1.5, -1.5, -0.5, -0.5,  0.5,  0.5,  1.5,  1.5],\n",
       "       [-0.5,  0.5, -0.5,  0.5, -0.5,  0.5, -0.5,  0.5]])"
      ]
     },
     "execution_count": 25,
     "metadata": {},
     "output_type": "execute_result"
    }
   ],
   "source": [
    "\"\"\"\n",
    "\"\"\"\n",
    "import numpy as np\n",
    "\n",
    "def get_array_layout(N_dim: np.ndarray) -> np.ndarray:\n",
    "    r, c = N_dim\n",
    "    X, Y = np.meshgrid(np.arange(c) - (c-1)/2, np.arange(r) - (r-1)/2)\n",
    "\n",
    "    XF = X.ravel(order=\"F\")\n",
    "    YF = Y.ravel(order=\"F\")\n",
    "    Z = np.zeros(r*c)\n",
    "\n",
    "    layout = np.vstack((Z, XF, YF))\n",
    "    return layout\n",
    "\n",
    "\n",
    "get_array_layout((2, 4))"
   ]
  },
  {
   "cell_type": "code",
   "execution_count": null,
   "metadata": {},
   "outputs": [],
   "source": []
  }
 ],
 "metadata": {
  "colab": {
   "authorship_tag": "ABX9TyNNp/nIKlS5VqHZmzWj4QsD",
   "provenance": []
  },
  "kernelspec": {
   "display_name": "base",
   "language": "python",
   "name": "python3"
  },
  "language_info": {
   "codemirror_mode": {
    "name": "ipython",
    "version": 3
   },
   "file_extension": ".py",
   "mimetype": "text/x-python",
   "name": "python",
   "nbconvert_exporter": "python",
   "pygments_lexer": "ipython3",
   "version": "3.9.13"
  },
  "vscode": {
   "interpreter": {
    "hash": "53f10265b29eae0c75bb63924abf1eea9a79a8d3dfe9a1fff78ba6afc90c4aa9"
   }
  }
 },
 "nbformat": 4,
 "nbformat_minor": 1
}
