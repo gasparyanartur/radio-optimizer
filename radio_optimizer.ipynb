{
 "cells": [
  {
   "cell_type": "code",
   "execution_count": 3,
   "metadata": {
    "colab": {
     "base_uri": "https://localhost:8080/"
    },
    "id": "91eoJzm25T3m",
    "outputId": "4fa5d574-22fd-4ec5-ec73-b8d6cc8763f6"
   },
   "outputs": [],
   "source": [
    "import os\n",
    "\n",
    "using_colab = False\n",
    "if using_colab:\n",
    "  os.system('rm -rf ./*')\n",
    "  os.system('git clone https://github.com/gasparyanartur/radio-optimizer.git')\n",
    "  os.system('mv radio-optimizer/* ./')\n",
    "  os.system('rm -rf radio-optimizer')"
   ]
  },
  {
   "cell_type": "code",
   "execution_count": 4,
   "metadata": {},
   "outputs": [
    {
     "name": "stdout",
     "output_type": "stream",
     "text": [
      "(no blockage)\tPWM: PEB = 0.026133+0.000000j | CEB = 0.013426+0.000000j\n",
      "(with blockage)\tPWM: PEB = 0.069256+0.000000j | CEB = 0.064823+0.000000j\n"
     ]
    },
    {
     "data": {
      "image/png": "[encoded data removed]",
      "text/plain": [
       "<Figure size 432x288 with 1 Axes>"
      ]
     },
     "metadata": {
      "needs_background": "light"
     },
     "output_type": "display_data"
    }
   ],
   "source": [
    "import numpy as np\n",
    "import matplotlib.pyplot as plt\n",
    "import time\n",
    "\n",
    "from src.utils import db2pow, setup_fig\n",
    "\n",
    "from src.channel_mmWave_parameters import ChannelmmWaveParameters\n",
    "\n",
    "c = ChannelmmWaveParameters(\n",
    "    PB = np.array([0, -0.01, 0]).reshape(-1, 1),\n",
    "    OB = np.array([45, 0, 0]).reshape(-1, 1),\n",
    "    NB_dim = np.array([1, 1]).reshape(-1, 1),\n",
    "    PR = np.array([[-5.01, 2, 0.5], [-1, 5.01, 0.5], [5.01, 2.5, 0.5]]).T,\n",
    "    OR = np.array([[0, 0, 0], [-90, 0, 0], [180, 0, 0]]).T,\n",
    "    NR_dim = np.array([[10, 10], [10, 10], [10, 10]]).T,\n",
    "    PU = np.array([-2, 3, -1.5]).reshape(-1, 1),\n",
    "    OU = np.array([0, 0, 0]).reshape(-1, 1),\n",
    "    NU_dim = np.array([1, 1]).reshape(-1, 1),\n",
    "    P = db2pow(15),\n",
    "    K = 64,\n",
    "    G = 10,\n",
    "\n",
    "    seed=1\n",
    ")\n",
    "\n",
    "c.get_beam_matrix()\n",
    "c.get_tx_symbol()\n",
    "c.get_path_parameters_PWM()\n",
    "c.get_FIM_PWM()\n",
    "\n",
    "fim = c.FIM\n",
    "c.get_crlb_from_fim_PWM(fim)\n",
    "print(f\"(no blockage)\\tPWM: PEB = {c.PEB:.6f} | CEB = {c.CEB:.6f}\")\n",
    "\n",
    "setup_fig()\n",
    "c.plot_scene()\n",
    "\n",
    "point = np.array([2, 4])\n",
    "blockage = c.get_blockage(point)\n",
    "c.get_crlb_blockage(blockage)\n",
    "\n",
    "print(f\"(with blockage)\\tPWM: PEB = {c.PEB:.6f} | CEB = {c.CEB:.6f}\")\n",
    "\n",
    "c0 = c.copy()"
   ]
  },
  {
   "cell_type": "code",
   "execution_count": 5,
   "metadata": {},
   "outputs": [
    {
     "name": "stdout",
     "output_type": "stream",
     "text": [
      "xi: 0/21\n",
      "xi: 1/21\n",
      "xi: 2/21\n",
      "xi: 3/21\n",
      "xi: 4/21\n",
      "xi: 5/21\n",
      "xi: 6/21\n",
      "xi: 7/21\n",
      "xi: 8/21\n",
      "xi: 9/21\n",
      "xi: 10/21\n",
      "xi: 11/21\n",
      "xi: 12/21\n",
      "xi: 13/21\n",
      "xi: 14/21\n",
      "xi: 15/21\n",
      "xi: 16/21\n",
      "xi: 17/21\n",
      "xi: 18/21\n",
      "xi: 19/21\n",
      "xi: 20/21\n"
     ]
    }
   ],
   "source": [
    "grid_size = 0.5     # ~7s\n",
    "#grid_size = 0.2     # ~42s\n",
    "#grid_size = 0.1     # ~160s\n",
    "\n",
    "\n",
    "xgrid = np.arange(-5, 5+grid_size, grid_size)\n",
    "ygrid = np.arange(0, 5+grid_size, grid_size)\n",
    "\n",
    "PEB_mat = np.zeros((xgrid.size, ygrid.size))\n",
    "PEB_cell = np.zeros((xgrid.size, ygrid.size), dtype='complex_')\n",
    "\n",
    "print_runtimes = False\n",
    "verbosity = 1\n",
    "\n",
    "tot_time = time.time()\n",
    "y_runtimes = []\n",
    "x_runtimes = []\n",
    "\n",
    "for xi in range(xgrid.size):\n",
    "    if verbosity >= 1:\n",
    "        print(f\"xi: {xi}/{xgrid.size}\")\n",
    "\n",
    "    x_time = time.time()\n",
    "\n",
    "    for yi in range(ygrid.size):\n",
    "        if verbosity >= 2:\n",
    "            print(f\"yi: {yi}/{ygrid.size}\")\n",
    "\n",
    "        y_time = time.time()\n",
    "        c = c0.copy()\n",
    "\n",
    "        c.PU = np.array([xgrid[xi], ygrid[yi], 1]).reshape(-1, 1)\n",
    "        c.update_parameters()\n",
    "        c.get_path_parameters_PWM()\n",
    "        c.get_FIM_PWM()\n",
    "        c.get_crlb_from_fim_PWM(c.FIM)\n",
    "\n",
    "        blockage = c.get_blockage(c.PU[:2].T)\n",
    "        c.get_crlb_blockage(blockage)\n",
    "        PEB_cell[xi, yi] = c.PEB\n",
    "\n",
    "        y_runtimes.append(time.time() - y_time)\n",
    "    \n",
    "    x_runtimes.append(time.time() - x_time)\n",
    "\n",
    "if print_runtimes:\n",
    "    print(f\"Total Runtime: {time.time() - tot_time: .3f}s\")\n",
    "    print(\"Mean y runtime:\", np.mean(y_runtimes))\n",
    "    print(\"Mean x runtime:\", np.mean(x_runtimes))\n",
    "    \n",
    "...;"
   ]
  },
  {
   "cell_type": "code",
   "execution_count": 7,
   "metadata": {},
   "outputs": [
    {
     "data": {
      "image/png": "[encoded data removed]",
      "text/plain": [
       "<Figure size 432x288 with 2 Axes>"
      ]
     },
     "metadata": {
      "needs_background": "light"
     },
     "output_type": "display_data"
    }
   ],
   "source": [
    "import matplotlib as mpl\n",
    "\n",
    "PEB_mat = PEB_cell.copy()\n",
    "PEB_mat[np.isnan(PEB_cell) | (np.abs(PEB_cell) > 100)] = 100\n",
    "\n",
    "X, Y = np.meshgrid(xgrid, ygrid)\n",
    "\n",
    "margin = 0.25\n",
    "cbar_shrink=0.65\n",
    "\n",
    "setup_fig()\n",
    "plt.title('PEB of ... []')\n",
    "img = plt.imshow(PEB_mat.T.real, origin='lower', norm=mpl.colors.LogNorm(vmin=0.01, vmax=1), extent=[-5-margin, 5+margin, -margin, 5+margin])\n",
    "plt.colorbar(img, pad=0.04, shrink=cbar_shrink, aspect=20*cbar_shrink)\n",
    "c.plot_scene()\n",
    "\n",
    "...;"
   ]
  }
 ],
 "metadata": {
  "colab": {
   "authorship_tag": "ABX9TyNNp/nIKlS5VqHZmzWj4QsD",
   "provenance": []
  },
  "kernelspec": {
   "display_name": "base",
   "language": "python",
   "name": "python3"
  },
  "language_info": {
   "codemirror_mode": {
    "name": "ipython",
    "version": 3
   },
   "file_extension": ".py",
   "mimetype": "text/x-python",
   "name": "python",
   "nbconvert_exporter": "python",
   "pygments_lexer": "ipython3",
   "version": "3.9.12"
  },
  "vscode": {
   "interpreter": {
    "hash": "53f10265b29eae0c75bb63924abf1eea9a79a8d3dfe9a1fff78ba6afc90c4aa9"
   }
  }
 },
 "nbformat": 4,
 "nbformat_minor": 1
}
