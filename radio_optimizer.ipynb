{
 "cells": [
  {
   "cell_type": "code",
   "execution_count": 7,
   "metadata": {
    "colab": {
     "base_uri": "https://localhost:8080/"
    },
    "id": "91eoJzm25T3m",
    "outputId": "4fa5d574-22fd-4ec5-ec73-b8d6cc8763f6"
   },
   "outputs": [],
   "source": [
    "import os\n",
    "\n",
    "using_colab = False\n",
    "if using_colab:\n",
    "  os.system('rm -rf ./*')\n",
    "  os.system('git clone https://github.com/gasparyanartur/radio-optimizer.git')\n",
    "  os.system('mv radio-optimizer/* ./')\n",
    "  os.system('rm -rf radio-optimizer')"
   ]
  },
  {
   "cell_type": "code",
   "execution_count": 3,
   "metadata": {},
   "outputs": [
    {
     "name": "stdout",
     "output_type": "stream",
     "text": [
      "[[ 0.  ]\n",
      " [-0.01]\n",
      " [ 0.  ]] [[-5.01 -1.    5.01]\n",
      " [ 2.    5.01  2.5 ]\n",
      " [ 0.5   0.5   0.5 ]]\n"
     ]
    }
   ],
   "source": [
    "import numpy as np\n",
    "import matplotlib.pyplot as plt\n",
    "\n",
    "from src.utils import db2pow\n",
    "\n",
    "from src.channel_mmWave_parameters import ChannelmmWaveParameters\n",
    "\n",
    "c = ChannelmmWaveParameters(\n",
    "    PB = np.array([0, -0.01, 0]).reshape(-1, 1),\n",
    "    OB = np.array([45, 0, 0]).reshape(-1, 1),\n",
    "    NB_dim = np.array([1, 1]).reshape(-1, 1),\n",
    "    PR = np.array([[-5.01, 2, 0.5], [-1, 5.01, 0.5], [5.01, 2.5, 0.5]]).T,\n",
    "    OR = np.array([[0, 0, 0], [-90, 0, 0], [180, 0, 0]]).T,\n",
    "    NR_dim = np.array([[10, 10], [10, 10], [10, 10]]).T,\n",
    "    PU = np.array([-2, 3, -1.5]).reshape(-1, 1),\n",
    "    OU = np.array([0, 0, 0]).reshape(-1, 1),\n",
    "    NU_dim = np.array([1, 1]).reshape(-1, 1),\n",
    "    P = db2pow(15),\n",
    "    K = 64,\n",
    "    G = 10,\n",
    "\n",
    "    seed=1\n",
    ")\n",
    "\n",
    "c.get_beam_matrix()\n",
    "c.get_tx_symbol()\n",
    "c.get_path_parameters_PWM()\n",
    "c.get_FIM_PWM()\n",
    "\n",
    "#fim = c.FIM\n",
    "#print(fim)\n",
    "#print(\"FIM\", fim[4, 8])\n",
    "#c.get_crlb_from_fim_PWM(fim)\n",
    "#print(f\"PWM: PEB = {c.PEB} | CEB = {c.CEB}\")\n",
    "\n",
    "\n",
    "c.__dict__\n"
   ]
  },
  {
   "cell_type": "code",
   "execution_count": 23,
   "metadata": {},
   "outputs": [
    {
     "data": {
      "text/plain": [
       "array([[-0.80882784-0.58804552j, -0.80882784-0.58804552j,\n",
       "        -0.80882784-0.58804552j, ..., -0.80882784-0.58804552j,\n",
       "        -0.80882784-0.58804552j, -0.80882784-0.58804552j],\n",
       "       [-0.50015479+0.86593602j, -0.50015479+0.86593602j,\n",
       "        -0.50015479+0.86593602j, ..., -0.50015479+0.86593602j,\n",
       "        -0.50015479+0.86593602j, -0.50015479+0.86593602j],\n",
       "       [ 0.91353092+0.4067693j ,  0.91353092+0.4067693j ,\n",
       "         0.91353092+0.4067693j , ...,  0.91353092+0.4067693j ,\n",
       "         0.91353092+0.4067693j ,  0.91353092+0.4067693j ],\n",
       "       ...,\n",
       "       [ 0.91353092-0.4067693j ,  0.91353092-0.4067693j ,\n",
       "         0.91353092-0.4067693j , ...,  0.91353092-0.4067693j ,\n",
       "         0.91353092-0.4067693j ,  0.91353092-0.4067693j ],\n",
       "       [-0.50015479-0.86593602j, -0.50015479-0.86593602j,\n",
       "        -0.50015479-0.86593602j, ..., -0.50015479-0.86593602j,\n",
       "        -0.50015479-0.86593602j, -0.50015479-0.86593602j],\n",
       "       [-0.80882784+0.58804552j, -0.80882784+0.58804552j,\n",
       "        -0.80882784+0.58804552j, ..., -0.80882784+0.58804552j,\n",
       "        -0.80882784+0.58804552j, -0.80882784+0.58804552j]])"
      ]
     },
     "execution_count": 23,
     "metadata": {},
     "output_type": "execute_result"
    }
   ],
   "source": [
    "c.AstRU_cell[1]\n"
   ]
  },
  {
   "cell_type": "code",
   "execution_count": null,
   "metadata": {},
   "outputs": [],
   "source": [
    "c.Anchor = np.hstack((c.PB[:2], c.PR[:2]))\n",
    "c.Wall = [np.array([[-3, 2], [-1, 2]]), np.array([[3, 2], [1.5, 4]])]\n",
    "\n",
    "plt.scatter(c.PB[0], c.PB[1], marker='x')\n",
    "plt.scatter(c.PR[0], c.PR[1], marker='o')\n",
    "plt.plot(c.Wall[0][:, 0], c.Wall[0][:, 1])\n",
    "plt.plot(c.Wall[1][:, 0], c.Wall[1][:, 1])\n",
    "plt.xlim(-6, 6)\n",
    "plt.ylim(-1, 6)\n",
    "\n",
    "point = np.array([2, 4])\n",
    "blockage = c.get_blockage(point)\n",
    "c.get_crlb_blockage(blockage)\n",
    "\n",
    "print(f\"PWM: PEB = {c.PEB} | CEB = {c.CEB}\")\n"
   ]
  },
  {
   "cell_type": "code",
   "execution_count": 4,
   "metadata": {},
   "outputs": [
    {
     "data": {
      "text/plain": [
       "array([[0, 2],\n",
       "       [1, 3]])"
      ]
     },
     "execution_count": 4,
     "metadata": {},
     "output_type": "execute_result"
    }
   ],
   "source": [
    "a = np.arange(40).reshape(2, 2, 5, 2, order='F')\n",
    "a[:, :, 0, 0]\n"
   ]
  },
  {
   "cell_type": "code",
   "execution_count": null,
   "metadata": {},
   "outputs": [],
   "source": [
    "c.lambdak"
   ]
  },
  {
   "cell_type": "code",
   "execution_count": null,
   "metadata": {},
   "outputs": [],
   "source": [
    "np.eye(3)"
   ]
  },
  {
   "cell_type": "code",
   "execution_count": null,
   "metadata": {},
   "outputs": [],
   "source": [
    "import numpy as np\n",
    "np.random.seed(1)\n",
    "from src.utils import rand\n",
    "\n",
    "rand(2, 1)"
   ]
  },
  {
   "cell_type": "code",
   "execution_count": null,
   "metadata": {},
   "outputs": [],
   "source": []
  }
 ],
 "metadata": {
  "colab": {
   "authorship_tag": "ABX9TyNNp/nIKlS5VqHZmzWj4QsD",
   "provenance": []
  },
  "kernelspec": {
   "display_name": "base",
   "language": "python",
   "name": "python3"
  },
  "language_info": {
   "codemirror_mode": {
    "name": "ipython",
    "version": 3
   },
   "file_extension": ".py",
   "mimetype": "text/x-python",
   "name": "python",
   "nbconvert_exporter": "python",
   "pygments_lexer": "ipython3",
   "version": "3.9.13"
  },
  "vscode": {
   "interpreter": {
    "hash": "53f10265b29eae0c75bb63924abf1eea9a79a8d3dfe9a1fff78ba6afc90c4aa9"
   }
  }
 },
 "nbformat": 4,
 "nbformat_minor": 1
}
