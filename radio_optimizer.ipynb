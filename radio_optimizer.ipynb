{
 "cells": [
  {
   "cell_type": "code",
   "execution_count": 1,
   "metadata": {
    "colab": {
     "base_uri": "https://localhost:8080/"
    },
    "id": "91eoJzm25T3m",
    "outputId": "4fa5d574-22fd-4ec5-ec73-b8d6cc8763f6"
   },
   "outputs": [],
   "source": [
    "import os\n",
    "\n",
    "using_colab = False\n",
    "if using_colab:\n",
    "  os.system('rm -rf ./*')\n",
    "  os.system('git clone https://github.com/gasparyanartur/radio-optimizer.git')\n",
    "  os.system('mv radio-optimizer/* ./')\n",
    "  os.system('rm -rf radio-optimizer')"
   ]
  },
  {
   "cell_type": "code",
   "execution_count": 1,
   "metadata": {
    "id": "ScLdwAsS5xOQ"
   },
   "outputs": [
    {
     "name": "stdout",
     "output_type": "stream",
     "text": [
      "5\n"
     ]
    }
   ],
   "source": [
    "import test_file\n",
    "\n",
    "print(test_file.TestClass().test_variable)"
   ]
  }
 ],
 "metadata": {
  "colab": {
   "authorship_tag": "ABX9TyNNp/nIKlS5VqHZmzWj4QsD",
   "provenance": []
  },
  "kernelspec": {
   "display_name": "base",
   "language": "python",
   "name": "python3"
  },
  "language_info": {
   "codemirror_mode": {
    "name": "ipython",
    "version": 3
   },
   "file_extension": ".py",
   "mimetype": "text/x-python",
   "name": "python",
   "nbconvert_exporter": "python",
   "pygments_lexer": "ipython3",
   "version": "3.9.12 (main, Apr  4 2022, 05:22:27) [MSC v.1916 64 bit (AMD64)]"
  },
  "vscode": {
   "interpreter": {
    "hash": "53f10265b29eae0c75bb63924abf1eea9a79a8d3dfe9a1fff78ba6afc90c4aa9"
   }
  }
 },
 "nbformat": 4,
 "nbformat_minor": 1
}
