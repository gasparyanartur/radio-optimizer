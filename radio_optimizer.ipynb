{
 "cells": [
  {
   "cell_type": "code",
   "execution_count": null,
   "metadata": {
    "colab": {
     "base_uri": "https://localhost:8080/"
    },
    "id": "91eoJzm25T3m",
    "outputId": "4fa5d574-22fd-4ec5-ec73-b8d6cc8763f6"
   },
   "outputs": [],
   "source": [
    "import os\n",
    "\n",
    "using_colab = False\n",
    "if using_colab:\n",
    "  os.system('rm -rf ./*')\n",
    "  os.system('git clone https://github.com/gasparyanartur/radio-optimizer.git')\n",
    "  os.system('mv radio-optimizer/* ./')\n",
    "  os.system('rm -rf radio-optimizer')"
   ]
  },
  {
   "cell_type": "code",
   "execution_count": null,
   "metadata": {
    "id": "ScLdwAsS5xOQ"
   },
   "outputs": [],
   "source": [
    "import numpy as np\n",
    "from src.channel_mmWave_parameters import ChannelmmWaveParameters\n",
    "\n",
    "seed = 0\n",
    "rng = np.random.default_rng(seed)"
   ]
  },
  {
   "cell_type": "code",
   "execution_count": null,
   "metadata": {},
   "outputs": [],
   "source": [
    "import numpy as np\n",
    "from src.utils import db2pow\n",
    "\n",
    "from src.channel_mmWave_parameters import ChannelmmWaveParameters\n",
    "\n",
    "c = ChannelmmWaveParameters(\n",
    "    OB = np.array([45, 0, 0]).reshape(-1, 1),\n",
    "    NB_dim = np.array([1, 1]).reshape(-1, 1),\n",
    "    PR = np.array([[-5.01, 2, 0.5], [-1, 5.01, 0.5], [5.01, 2.5, 0.5]]).T,\n",
    "    OR = np.array([[0, 0, 0], [-90, 0, 0], [180, 0, 0]]).T,\n",
    "    NR_dim = np.array([[10, 10], [10, 10], [10, 10]]).T,\n",
    "    PU = np.array([-2, 3, -1.5]).reshape(-1, 1),\n",
    "    OU = np.array([0, 0, 0]).reshape(-1, 1),\n",
    "    NU_dim = np.array([1, 1]).reshape(-1, 1),\n",
    "    P = db2pow(15),\n",
    "    K = 64,\n",
    "    G = 10,\n",
    "\n",
    "    seed=0\n",
    ")\n",
    "\n",
    "c.get_beam_matrix()\n",
    "c.get_tx_symbol()\n",
    "c.get_path_parameters_PWM()\n",
    "c.get_FIM_PWM()\n",
    "\n",
    "fim = c.FIM\n",
    "c.get_crlb_from_fim_PWM(fim)"
   ]
  },
  {
   "cell_type": "code",
   "execution_count": null,
   "metadata": {},
   "outputs": [],
   "source": [
    "c.thetaRU_loc[:, 2]\n"
   ]
  },
  {
   "cell_type": "code",
   "execution_count": null,
   "metadata": {},
   "outputs": [],
   "source": [
    "c.lambdak"
   ]
  },
  {
   "cell_type": "code",
   "execution_count": null,
   "metadata": {},
   "outputs": [],
   "source": []
  }
 ],
 "metadata": {
  "colab": {
   "authorship_tag": "ABX9TyNNp/nIKlS5VqHZmzWj4QsD",
   "provenance": []
  },
  "kernelspec": {
   "display_name": "base",
   "language": "python",
   "name": "python3"
  },
  "language_info": {
   "codemirror_mode": {
    "name": "ipython",
    "version": 3
   },
   "file_extension": ".py",
   "mimetype": "text/x-python",
   "name": "python",
   "nbconvert_exporter": "python",
   "pygments_lexer": "ipython3",
   "version": "3.9.13"
  },
  "vscode": {
   "interpreter": {
    "hash": "53f10265b29eae0c75bb63924abf1eea9a79a8d3dfe9a1fff78ba6afc90c4aa9"
   }
  }
 },
 "nbformat": 4,
 "nbformat_minor": 1
}
